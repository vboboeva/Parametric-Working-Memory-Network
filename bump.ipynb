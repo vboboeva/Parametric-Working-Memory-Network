{
 "cells": [
  {
   "cell_type": "code",
   "execution_count": 119,
   "metadata": {},
   "outputs": [
    {
     "data": {
      "image/png": "[encoded data removed]",
      "text/plain": [
       "<Figure size 432x432 with 1 Axes>"
      ]
     },
     "metadata": {
      "needs_background": "light"
     },
     "output_type": "display_data"
    }
   ],
   "source": [
    "# %pylab inline\n",
    "from mpl_toolkits.mplot3d import Axes3D\n",
    "from matplotlib.markers import MarkerStyle\n",
    "import numpy as np\n",
    "from matplotlib import cm\n",
    "import matplotlib.pyplot as plt\n",
    "\n",
    "\n",
    "pfc=np.load(\"1D/pfc.npy\")\n",
    "Vi=np.load(\"1D/Vinitial.npy\")\n",
    "Vs=np.load(\"1D/Vdynamics.npy\")\n",
    "\n",
    "t=100\n",
    "Dt=2\n",
    "\n",
    "color=['black', 'grey','red','blue','green','orange']#cm.Blues(np.linspace(0.4,1,10))\n",
    "\n",
    "fig=plt.figure(figsize=(6,6))\n",
    "\n",
    "# plt.scatter(pfc[0],Vi,c='black',s=5)\n",
    "# plt.scatter(pfc[0],Vs[1],c='gray',s=5)\n",
    "# plt.scatter(pfc[0],Vs[2],c='red',s=5)\n",
    "\n",
    "#plt.ylim([0,np.max(Vi)])\n",
    "\n",
    "for i in range(0,6):\n",
    "    #fig=plt.figure(figsize=(2,2))\n",
    "    plt.scatter(pfc[0],Vs[-i*200],color=color[-i],label=r\"$t_{1}$\",s=1)\n",
    "    #plt.ylim([0,np.max(Vs[i])])\n",
    "#for i in range(10):\n",
    "#    figure(figsize=(2,2))\n",
    "#    scatter(pfc[0],Vs[i*20],label=r\"$t_{1}$\",c='black',s=5)\n",
    "#    ylim([0,np.max(Vs)])\n",
    "    plt.xlabel(\"x (a.u.)\", fontsize=20)\n",
    "    plt.ylabel(\"V (a.u.)\", fontsize=20)\n",
    "#savefig(\"1D.svg\")\n",
    "#legend()"
   ]
  },
  {
   "cell_type": "code",
   "execution_count": 93,
   "metadata": {},
   "outputs": [
    {
     "name": "stdout",
     "output_type": "stream",
     "text": [
      "500\n",
      "20.0\n"
     ]
    },
    {
     "data": {
      "image/png": "[encoded data removed]",
      "text/plain": [
       "<Figure size 432x288 with 1 Axes>"
      ]
     },
     "metadata": {
      "needs_background": "light"
     },
     "output_type": "display_data"
    }
   ],
   "source": [
    "from matplotlib import pyplot as plt\n",
    "from matplotlib import animation\n",
    "\n",
    "# First set up the figure, the axis, and the plot element we want to animate\n",
    "fig, ax = plt.subplots()\n",
    "ax.set_xlim( [np.min(pfc[0]), np.max(pfc[0])] )\n",
    "ax.set_ylim( [0., np.max(Vs)] )\n",
    "line, = ax.plot([], [], lw=2)\n",
    "\n",
    "# initialization function: plot the background of each frame\n",
    "def init():\n",
    "    line.set_data([], [])\n",
    "    return line,\n",
    "\n",
    "# animation function.  This is called sequentially\n",
    "def animate(i):\n",
    "    x = pfc[0]\n",
    "    y = Vs[i]\n",
    "    line.set_data(x, y)\n",
    "    return line,\n",
    "\n",
    "# call the animator.  blit=True means only re-draw the parts that have changed.\n",
    "duration=10 # in sec\n",
    "fps = 30\n",
    "frames = np.arange(0,len(Vs),10)\n",
    "interval=duration*1000/len(frames)\n",
    "\n",
    "print(len(frames))\n",
    "print(interval)\n",
    "\n",
    "\n",
    "anim = animation.FuncAnimation(fig, animate, init_func=init,\n",
    "                               frames=frames, interval=interval, blit=True)\n",
    "\n",
    "anim.save('basic_animation.mp4', extra_args=['-vcodec', 'libx264']) #fps=30, \n",
    "\n",
    "plt.show()"
   ]
  },
  {
   "cell_type": "code",
   "execution_count": 6,
   "metadata": {},
   "outputs": [],
   "source": [
    "# create folder for video frames\n",
    "import os\n",
    "if not os.path.exists(\"videotemp\"):\n",
    "    os.makedirs(\"videotemp\")\n",
    "# loads data\n",
    "pfc1D=load(\"1D/pfc.npy\")\n",
    "Vs1D=load(\"1D/Vdynamics.npy\")\n",
    "# generates and saves frames\n",
    "for i in range(len(Vs1D)):\n",
    "    fig=plt.figure(figsize=(15,5))\n",
    "    subplot(1,1,1)\n",
    "    scatter(pfc1D[0],Vs1D[i],c='k')\n",
    "    title(\"1D\", fontsize=20)\n",
    "    xlabel(\"X\", fontsize=20)\n",
    "    ylabel(\"activity (a.u.)\", fontsize=20)\n",
    "    plt.xticks([], [])\n",
    "    plt.yticks([], [])\n",
    "        \n",
    "    tight_layout()\n",
    "    if i < 10:\n",
    "        savefig(\"videotemp/frame00\"+str(i+1)+\".png\")\n",
    "    if i >= 10 and i < 100:\n",
    "        savefig(\"videotemp/frame0\"+str(i+1)+\".png\")\n",
    "    else:\n",
    "        savefig(\"videotemp/frame\"+str(i+1)+\".png\")\n",
    "    plt.close()\n",
    "    "
   ]
  },
  {
   "cell_type": "code",
   "execution_count": null,
   "metadata": {},
   "outputs": [],
   "source": []
  }
 ],
 "metadata": {
  "kernelspec": {
   "display_name": "Python 3",
   "language": "python",
   "name": "python3"
  },
  "language_info": {
   "codemirror_mode": {
    "name": "ipython",
    "version": 3
   },
   "file_extension": ".py",
   "mimetype": "text/x-python",
   "name": "python",
   "nbconvert_exporter": "python",
   "pygments_lexer": "ipython3",
   "version": "3.9.0+"
  }
 },
 "nbformat": 4,
 "nbformat_minor": 4
}
